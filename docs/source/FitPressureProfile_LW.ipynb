{
 "cells": [
  {
   "cell_type": "code",
   "execution_count": null,
   "metadata": {},
   "outputs": [],
   "source": [
    "### Useful libraries\n",
    "import numpy as np\n",
    "import astropy.units as u\n",
    "from astropy.io import fits \n",
    "#### Modules within our library\n",
    "import M2_ProposalTools.WorkHorse as WH\n",
    "import M2_ProposalTools.MakeRMSmap as MRM\n",
    "import M2_ProposalTools.ModelFitting as MF"
   ]
  },
  {
   "cell_type": "code",
   "execution_count": null,
   "metadata": {},
   "outputs": [],
   "source": [
    "outdir   = \"/home/data/MUSTANG2/SimulatedObservations/QuickAndDirty/\"\n",
    "\n",
    "M5_14    = 6.0\n",
    "M500     = M5_14*1e14*u.M_sun\n",
    "z        = 0.5\n",
    "pixsize  = 4.0\n",
    "\n",
    "times    = [10,10]\n",
    "ptgs     = [[180,45.0],[180,45.0]]\n",
    "sizes    = [3.5,3.5]\n",
    "offsets  = [1.5,0]\n",
    "\n",
    "pixstr   = \"{:.1f}\".format(pixsize).replace(\".\",\"p\")\n",
    "zstr     = \"{:.1f}\".format(z).replace(\".\",\"z\")\n",
    "Mstr     = \"{:.1f}\".format(M5_14).replace(\".\",\"m\")\n",
    "sss      = [\"{:.1f}\".format(mysz).replace(\".\",\"s\") for mysz in sizes]\n",
    "sts      = [\"{:.1f}\".format(mytime).replace(\".\",\"h\") for mytime in times]\n",
    "ssstr    = \"_\".join(sss)\n",
    "ststr    = \"_\".join(sts)\n",
    "InputStr = \"_\".join([zstr,Mstr,ssstr,ststr,pixstr])"
   ]
  },
  {
   "cell_type": "code",
   "execution_count": null,
   "metadata": {},
   "outputs": [],
   "source": [
    "inputHDU = fits.open(outdir+filename)\n",
    "nsteps   = 10000\n",
    "nsstr    = \"_\"+repr(nsteps)+\"steps\"\n",
    "outbase = \"NP_fit_\"+InputStr+nsstr+\"_corner.png\"\n",
    "MF.fit_spherical_model(z,M500,inputHDU,outdir=outdir,nsteps=nsteps,outbase=outbase)   # 100 for testing purposes"
   ]
  }
 ],
 "metadata": {
  "kernelspec": {
   "display_name": "Python 3",
   "language": "python",
   "name": "python3"
  },
  "language_info": {
   "codemirror_mode": {
    "name": "ipython",
    "version": 3
   },
   "file_extension": ".py",
   "mimetype": "text/x-python",
   "name": "python",
   "nbconvert_exporter": "python",
   "pygments_lexer": "ipython3",
   "version": "3.8.5"
  }
 },
 "nbformat": 4,
 "nbformat_minor": 4
}

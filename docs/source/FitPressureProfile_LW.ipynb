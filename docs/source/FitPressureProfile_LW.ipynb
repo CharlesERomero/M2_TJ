{
 "cells": [
  {
   "cell_type": "code",
   "execution_count": 1,
   "metadata": {},
   "outputs": [],
   "source": [
    "### Useful libraries\n",
    "import numpy as np\n",
    "import astropy.units as u\n",
    "from astropy.io import fits \n",
    "#### Modules within our library\n",
    "import M2_ProposalTools.WorkHorse as WH\n",
    "import M2_ProposalTools.MakeRMSmap as MRM\n",
    "import M2_ProposalTools.ModelFitting as MF"
   ]
  },
  {
   "cell_type": "code",
   "execution_count": 4,
   "metadata": {},
   "outputs": [],
   "source": [
    "outdir   = \"/home/data/MUSTANG2/SimulatedObservations/QuickAndDirty/\"\n",
    "\n",
    "M5_14    = 6.0\n",
    "M500     = M5_14*1e14*u.M_sun\n",
    "z        = 0.5\n",
    "pixsize  = 4.0\n",
    "\n",
    "times    = [10,10]\n",
    "ptgs     = [[180,45.0],[180,45.0]]\n",
    "sizes    = [3.5,3.5]\n",
    "offsets  = [1.5,0]\n",
    "\n",
    "pixstr   = \"{:.1f}\".format(pixsize).replace(\".\",\"p\")\n",
    "zstr     = \"{:.1f}\".format(z).replace(\".\",\"z\")\n",
    "Mstr     = \"{:.1f}\".format(M5_14).replace(\".\",\"m\")\n",
    "sss      = [\"{:.1f}\".format(mysz).replace(\".\",\"s\") for mysz in sizes]\n",
    "sts      = [\"{:.1f}\".format(mytime).replace(\".\",\"h\") for mytime in times]\n",
    "ssstr    = \"_\".join(sss)\n",
    "ststr    = \"_\".join(sts)\n",
    "InputStr = \"_\".join([zstr,Mstr,ssstr,ststr,pixstr])\n",
    "\n",
    "filename = \"SimulatedObs_Unsmoothed_\"+InputStr+\".fits\""
   ]
  },
  {
   "cell_type": "code",
   "execution_count": null,
   "metadata": {},
   "outputs": [
    {
     "name": "stderr",
     "output_type": "stream",
     "text": [
      "/home/charles/.local/lib/python3.8/site-packages/scipy/optimize/minpack.py:828: OptimizeWarning: Covariance of the parameters could not be estimated\n",
      "  warnings.warn('Covariance of the parameters could not be estimated',\n"
     ]
    },
    {
     "name": "stdout",
     "output_type": "stream",
     "text": [
      "[2.42406841e-05 4.93877836e-05 1.00622291e-04 2.05007084e-04\n",
      " 4.17679859e-04 8.50977740e-04]\n",
      "Bins start with:  [  5.          10.18696162  20.75483742  42.28574646  86.15265527\n",
      " 175.52675858]\n",
      "Bins are now:  [  5.          10.18696162  20.75483742  42.28574646  86.15265527\n",
      " 175.52675858]\n"
     ]
    },
    {
     "name": "stderr",
     "output_type": "stream",
     "text": [
      "  0%|          | 9/5000 [00:07<1:04:33,  1.29it/s]/home/charles/Python/ForGitHub/M2_TJ/src/M2_ProposalTools/analytic_integrations.py:73: RuntimeWarning: divide by zero encountered in double_scalars\n",
      "  yint = 1.0 - (rin/rout)**(2-alpha)  # I could leave out the second term...\n",
      " 17%|█▋        | 844/5000 [09:33<44:07,  1.57it/s]  "
     ]
    }
   ],
   "source": [
    "inputHDU = fits.open(outdir+filename)\n",
    "nsteps   = 5000\n",
    "nsstr    = \"_\"+repr(nsteps)+\"steps\"\n",
    "outbase = \"NP_fit_\"+InputStr+nsstr+\"_corner.png\"\n",
    "MF.fit_spherical_model(z,M500,inputHDU,outdir=outdir,nsteps=nsteps,outbase=outbase)   # 100 for testing purposes"
   ]
  },
  {
   "cell_type": "code",
   "execution_count": null,
   "metadata": {},
   "outputs": [],
   "source": []
  }
 ],
 "metadata": {
  "kernelspec": {
   "display_name": "Python 3",
   "language": "python",
   "name": "python3"
  },
  "language_info": {
   "codemirror_mode": {
    "name": "ipython",
    "version": 3
   },
   "file_extension": ".py",
   "mimetype": "text/x-python",
   "name": "python",
   "nbconvert_exporter": "python",
   "pygments_lexer": "ipython3",
   "version": "3.8.5"
  }
 },
 "nbformat": 4,
 "nbformat_minor": 4
}

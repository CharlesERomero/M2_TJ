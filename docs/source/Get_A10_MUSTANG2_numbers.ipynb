{
 "cells": [
  {
   "cell_type": "markdown",
   "metadata": {},
   "source": [
    "# Example case of estimating observing time for assumed A10 clusters #\n",
    "\n",
    "This thread shows how to use _M2_ProposalTools_ to estimate the required time to observe clusters based on a single pointing."
   ]
  },
  {
   "cell_type": "code",
   "execution_count": 1,
   "metadata": {},
   "outputs": [],
   "source": [
    "import M2_ProposalTools.WorkHorse as WH\n",
    "import numpy as np\n",
    "import astropy.units as u\n",
    "import M2_ProposalTools.FilterImages as FI\n",
    "import scipy"
   ]
  },
  {
   "cell_type": "markdown",
   "metadata": {},
   "source": [
    "Let's just take the case of a few masses at high redshift ($z=1.0$)"
   ]
  },
  {
   "cell_type": "code",
   "execution_count": 2,
   "metadata": {},
   "outputs": [],
   "source": [
    "M500s = np.array([3.0,4.0,5.0,6.0])*1e14*u.M_sun\n",
    "zs    = np.array([1.0,1.0,1.0,1.0]) "
   ]
  },
  {
   "cell_type": "code",
   "execution_count": 3,
   "metadata": {},
   "outputs": [],
   "source": [
    "h70            = 1                          # Normalization of Hubble parameter\n",
    "fwhm           = 10.0                       # Roughly the resolution of MUSTANG-2\n",
    "pixsize        = 2.0                        # Assume this pixel size\n",
    "s2f            = np.sqrt(8.0*np.log(2.0))   # Conversion between FWHM and sigma\n",
    "pix_sigma      = fwhm/(pixsize*s2f)         # Gaussian sigma, in pixel size\n",
    "scansize       = 3.0                        # Assume scan sizes of 3 arcminutes\n",
    "y2k            = -3.3                       # Approximate conversion."
   ]
  },
  {
   "cell_type": "markdown",
   "metadata": {},
   "source": [
    "We'll just dive into some of the functions and get what we want: "
   ]
  },
  {
   "cell_type": "code",
   "execution_count": 4,
   "metadata": {},
   "outputs": [
    {
     "name": "stdout",
     "output_type": "stream",
     "text": [
      "M500 (1e14):  3.0\n",
      "Redshift:  1.0\n",
      "Y500 (1e12 sr):  9.607250432078944\n",
      "Unfiltered y peak:  9.619897496889924e-05\n",
      "Beam-convolved y peak:  8.860120011199452e-05\n",
      "Filtered y peak:  4.712003987027812e-05\n",
      "Filtered peak, uK:  -155.4961315719178\n",
      "Filtered peak, uJy/beam:  -119.28470367160817\n",
      "Time to 10 sigma peak detection (hrs):  22.19745167103094\n",
      "================================================\n",
      "M500 (1e14):  4.0\n",
      "Redshift:  1.0\n",
      "Y500 (1e12 sr):  16.032087067090995\n",
      "Unfiltered y peak:  0.00013376973214360876\n",
      "Beam-convolved y peak:  0.00012461706064739533\n",
      "Filtered y peak:  6.38786680129082e-05\n",
      "Filtered peak, uK:  -210.79960444259706\n",
      "Filtered peak, uJy/beam:  -161.70928559980047\n",
      "Time to 10 sigma peak detection (hrs):  12.078213834594965\n",
      "================================================\n",
      "M500 (1e14):  5.0\n",
      "Redshift:  1.0\n",
      "Y500 (1e12 sr):  23.850082514564303\n",
      "Unfiltered y peak:  0.00017266723341949052\n",
      "Beam-convolved y peak:  0.0001609109038327221\n",
      "Filtered y peak:  7.946347504129425e-05\n",
      "Filtered peak, uK:  -262.229467636271\n",
      "Filtered peak, uJy/beam:  -201.16233133741338\n",
      "Time to 10 sigma peak detection (hrs):  7.805115080972119\n",
      "================================================\n",
      "M500 (1e14):  6.0\n",
      "Redshift:  1.0\n",
      "Y500 (1e12 sr):  32.99381264073863\n",
      "Unfiltered y peak:  0.00021264462426804625\n",
      "Beam-convolved y peak:  0.00019890428730061485\n",
      "Filtered y peak:  9.512226057648411e-05\n",
      "Filtered peak, uK:  -313.90345990239757\n",
      "Filtered peak, uJy/beam:  -240.80265417170224\n",
      "Time to 10 sigma peak detection (hrs):  5.446908654698684\n",
      "================================================\n",
      "Total Telescope Time:  95.5\n"
     ]
    }
   ],
   "source": [
    "TotalTime=0\n",
    "for M500,z in zip(M500s,zs):\n",
    "\n",
    "    y500       = WH.y_delta_from_mdelta(M500.value,z,delta=500,YMrel=\"A10\",ycyl=False,h70=h70)\n",
    "    \n",
    "    ymap       = WH.make_A10Map(M500,z,pixsize=pixsize,Dist=True)\n",
    "    mymap      = WH.smooth_by_M2_beam(ymap,pixsize=pixsize)\n",
    "    \n",
    "    tab        = WH.get_xfertab(scansize)\n",
    "    yxfer_init = FI.apply_xfer(mymap,tab,pixsize)\n",
    "    yxfer      = scipy.ndimage.filters.gaussian_filter(yxfer_init, pix_sigma*0.9)\n",
    "    uKmap      = yxfer*y2k*1e6\n",
    "    uJymap     = uKmap * (56/73.0)\n",
    "    MS         = 56.2\n",
    "    \n",
    "    #print(\"pixel size: \",pixsize)\n",
    "    SZpeak_uK  = np.min(uKmap)\n",
    "    SZpeak_uJy = np.min(uJymap)\n",
    "    SZpeak_yr  = np.max(ymap)\n",
    "    SZpeak_yc  = np.max(mymap)\n",
    "    SZpeak_yx  = np.max(yxfer)\n",
    "    ObsTime    = (MS*10/SZpeak_uJy)**2\n",
    "    TelTime    = np.ceil(ObsTime*8)/4.0\n",
    "    print(\"M500 (1e14): \",(M500/1e14).value)\n",
    "    print(\"Redshift: \",z)\n",
    "    #print(\"R500 (arcmin): \",Theta500*60*180/np.pi)\n",
    "    print(\"Y500 (1e12 sr): \",y500*1e12)\n",
    "    print(\"Unfiltered y peak: \", SZpeak_yr)\n",
    "    print(\"Beam-convolved y peak: \", SZpeak_yc)\n",
    "    print(\"Filtered y peak: \", SZpeak_yx)\n",
    "    print(\"Filtered peak, uK: \", SZpeak_uK)\n",
    "    print(\"Filtered peak, uJy/beam: \", SZpeak_uJy)\n",
    "    print(\"Time to 10 sigma peak detection (hrs): \",ObsTime)\n",
    "    print(\"================================================\")\n",
    "    TotalTime += TelTime\n",
    "    \n",
    "print(\"Total Telescope Time: \", TotalTime)"
   ]
  },
  {
   "cell_type": "code",
   "execution_count": null,
   "metadata": {},
   "outputs": [],
   "source": []
  }
 ],
 "metadata": {
  "kernelspec": {
   "display_name": "Python 3",
   "language": "python",
   "name": "python3"
  },
  "language_info": {
   "codemirror_mode": {
    "name": "ipython",
    "version": 3
   },
   "file_extension": ".py",
   "mimetype": "text/x-python",
   "name": "python",
   "nbconvert_exporter": "python",
   "pygments_lexer": "ipython3",
   "version": "3.8.5"
  }
 },
 "nbformat": 4,
 "nbformat_minor": 4
}

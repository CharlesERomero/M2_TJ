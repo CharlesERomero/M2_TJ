{
 "cells": [
  {
   "cell_type": "markdown",
   "metadata": {},
   "source": [
    "# Example case of estimating observing time for assumed A10 clusters #\n",
    "\n",
    "This thread shows how to use _M2_ProposalTools_ to estimate the required time to observe clusters based on a single pointing."
   ]
  },
  {
   "cell_type": "code",
   "execution_count": 1,
   "metadata": {},
   "outputs": [],
   "source": [
    "import WorkHorse as WH\n",
    "import numpy as np\n",
    "import astropy.units as u\n",
    "import FilterImages as FI\n",
    "import scipy"
   ]
  },
  {
   "cell_type": "code",
   "execution_count": 2,
   "metadata": {},
   "outputs": [],
   "source": [
    "from importlib import reload"
   ]
  },
  {
   "cell_type": "code",
   "execution_count": 3,
   "metadata": {},
   "outputs": [],
   "source": [
    "WH=reload(WH)"
   ]
  },
  {
   "cell_type": "markdown",
   "metadata": {},
   "source": [
    "Let's just take the case of a few masses at high redshift ($z=1.5$)"
   ]
  },
  {
   "cell_type": "code",
   "execution_count": 4,
   "metadata": {},
   "outputs": [],
   "source": [
    "M500s = np.array([3.0,4.0,5.0,6.0])*1e14*u.M_sun\n",
    "zs    = np.array([1.5,1.5,1.5,1.5]) "
   ]
  },
  {
   "cell_type": "code",
   "execution_count": 7,
   "metadata": {},
   "outputs": [],
   "source": [
    "h70=1\n",
    "fwhm           = 10.0\n",
    "pixsize        = 2.0\n",
    "s2f            = np.sqrt(8.0*np.log(2.0)) \n",
    "pix_sigma      = fwhm/(pixsize*s2f)\n",
    "#xferfile       = \"/home/data/MUSTANG2/IDL_Xfer_Fxns/ByScanSize/pca5_0f08/xfer_Function_3p0_21Aonly_PCA5_0f08Filtering.txt\"\n",
    "xferfile       = \"xfer_Function_3p0_21Aonly_PCA5_0f08Filtering.txt\"\n",
    "y2k            = -3.3"
   ]
  },
  {
   "cell_type": "code",
   "execution_count": null,
   "metadata": {},
   "outputs": [],
   "source": []
  },
  {
   "cell_type": "code",
   "execution_count": 8,
   "metadata": {},
   "outputs": [
    {
     "name": "stdout",
     "output_type": "stream",
     "text": [
      "M500 (1e14):  4.9\n",
      "Redshift:  1.86\n",
      "Y500 (1e12 sr):  28.173524535508903\n",
      "Unfiltered y peak:  0.0004035995631544672\n",
      "Beam-convolved y peak:  0.0003680112181241709\n",
      "Filtered y peak:  0.0001346494401576201\n",
      "Filtered peak, uK:  -444.3431525201463\n",
      "Filtered peak, uJy/beam:  -340.8659800154547\n",
      "Time to 10 sigma peak detection (hrs):  2.718349625131644\n",
      "================================================\n",
      "M500 (1e14):  4.2\n",
      "Redshift:  1.67\n",
      "Y500 (1e12 sr):  19.92521636575886\n",
      "Unfiltered y peak:  0.00028267246311782624\n",
      "Beam-convolved y peak:  0.00025634591675205274\n",
      "Filtered y peak:  9.332350033556027e-05\n",
      "Filtered peak, uK:  -307.96755110734887\n",
      "Filtered peak, uJy/beam:  -236.2490803015279\n",
      "Time to 10 sigma peak detection (hrs):  5.658904673259357\n",
      "================================================\n",
      "M500 (1e14):  4.4\n",
      "Redshift:  1.63\n",
      "Y500 (1e12 sr):  21.34256014825589\n",
      "Unfiltered y peak:  0.0002869534254484513\n",
      "Beam-convolved y peak:  0.00026240870661402\n",
      "Filtered y peak:  9.432950908470593e-05\n",
      "Filtered peak, uK:  -311.28737997952953\n",
      "Filtered peak, uJy/beam:  -238.795798340461\n",
      "Time to 10 sigma peak detection (hrs):  5.538845728743307\n",
      "================================================\n",
      "M500 (1e14):  6.4\n",
      "Redshift:  1.56\n",
      "Y500 (1e12 sr):  40.615128859097275\n",
      "Unfiltered y peak:  0.00041222546745465425\n",
      "Beam-convolved y peak:  0.0003813217882170872\n",
      "Filtered y peak:  0.0001265570228527052\n",
      "Filtered peak, uK:  -417.6381754139272\n",
      "Filtered peak, uJy/beam:  -320.3799701805469\n",
      "Time to 10 sigma peak detection (hrs):  3.0771021797935068\n",
      "================================================\n",
      "M500 (1e14):  5.0\n",
      "Redshift:  1.51\n",
      "Y500 (1e12 sr):  25.763032403922104\n",
      "Unfiltered y peak:  0.00029540657938756495\n",
      "Beam-convolved y peak:  0.00027196734786892395\n",
      "Filtered y peak:  9.356939149570512e-05\n",
      "Filtered peak, uK:  -308.77899193582687\n",
      "Filtered peak, uJy/beam:  -236.8715554576206\n",
      "Time to 10 sigma peak detection (hrs):  5.629201662824328\n",
      "================================================\n",
      "Total Telescope Time:  46.0\n"
     ]
    }
   ],
   "source": [
    "TotalTime=0\n",
    "for M500,z in zip(M500s,zs):\n",
    "\n",
    "    y500       = WH.y_delta_from_mdelta(M500.value,z,delta=500,YMrel=\"A10\",ycyl=False,h70=h70)\n",
    "    \n",
    "    ymap       = WH.make_A10Map(M500,z,pixsize=pixsize,Dist=True)\n",
    "    mymap      = WH.smooth_by_M2_beam(ymap,pixsize=pixsize)\n",
    "    \n",
    "    tab        = FI.get_xfer(xferfile)\n",
    "    yxfer_init = FI.apply_xfer(mymap,tab,pixsize)\n",
    "    yxfer      = scipy.ndimage.filters.gaussian_filter(yxfer_init, pix_sigma*0.9)\n",
    "    uKmap      = yxfer*y2k*1e6\n",
    "    uJymap     = uKmap * (56/73.0)\n",
    "    MS         = 56.2\n",
    "    \n",
    "    #print(\"pixel size: \",pixsize)\n",
    "    SZpeak_uK  = np.min(uKmap)\n",
    "    SZpeak_uJy = np.min(uJymap)\n",
    "    SZpeak_yr  = np.max(ymap)\n",
    "    SZpeak_yc  = np.max(mymap)\n",
    "    SZpeak_yx  = np.max(yxfer)\n",
    "    ObsTime    = (MS*10/SZpeak_uJy)**2\n",
    "    TelTime    = np.ceil(ObsTime*8)/4.0\n",
    "    print(\"M500 (1e14): \",(M500/1e14).value)\n",
    "    print(\"Redshift: \",z)\n",
    "    #print(\"R500 (arcmin): \",Theta500*60*180/np.pi)\n",
    "    print(\"Y500 (1e12 sr): \",y500*1e12)\n",
    "    print(\"Unfiltered y peak: \", SZpeak_yr)\n",
    "    print(\"Beam-convolved y peak: \", SZpeak_yc)\n",
    "    print(\"Filtered y peak: \", SZpeak_yx)\n",
    "    print(\"Filtered peak, uK: \", SZpeak_uK)\n",
    "    print(\"Filtered peak, uJy/beam: \", SZpeak_uJy)\n",
    "    print(\"Time to 10 sigma peak detection (hrs): \",ObsTime)\n",
    "    print(\"================================================\")\n",
    "    TotalTime += TelTime\n",
    "    \n",
    "print(\"Total Telescope Time: \", TotalTime)"
   ]
  },
  {
   "cell_type": "code",
   "execution_count": null,
   "metadata": {},
   "outputs": [],
   "source": []
  },
  {
   "cell_type": "code",
   "execution_count": null,
   "metadata": {},
   "outputs": [],
   "source": []
  }
 ],
 "metadata": {
  "kernelspec": {
   "display_name": "Python 3",
   "language": "python",
   "name": "python3"
  },
  "language_info": {
   "codemirror_mode": {
    "name": "ipython",
    "version": 3
   },
   "file_extension": ".py",
   "mimetype": "text/x-python",
   "name": "python",
   "nbconvert_exporter": "python",
   "pygments_lexer": "ipython3",
   "version": "3.8.5"
  }
 },
 "nbformat": 4,
 "nbformat_minor": 4
}

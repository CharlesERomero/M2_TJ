{
 "cells": [
  {
   "cell_type": "code",
   "execution_count": 3,
   "metadata": {},
   "outputs": [],
   "source": [
    "import WorkHorse as WH\n",
    "import numpy as np\n",
    "import astropy.units as u\n",
    "import FilterImages as FI\n",
    "import scipy"
   ]
  },
  {
   "cell_type": "code",
   "execution_count": 4,
   "metadata": {},
   "outputs": [],
   "source": [
    "from importlib import reload"
   ]
  },
  {
   "cell_type": "code",
   "execution_count": 10,
   "metadata": {},
   "outputs": [],
   "source": [
    "WH=reload(WH)"
   ]
  },
  {
   "cell_type": "code",
   "execution_count": 6,
   "metadata": {},
   "outputs": [],
   "source": [
    "M500s = np.array([4.9,4.2,4.4,6.4,5.0])*1e14*u.M_sun\n",
    "zs    = np.array([1.86,1.67,1.63,1.56,1.51])"
   ]
  },
  {
   "cell_type": "code",
   "execution_count": 7,
   "metadata": {},
   "outputs": [],
   "source": [
    "h70=1\n",
    "fwhm           = 10.0\n",
    "pixsize        = 2.0\n",
    "#xferfile       = \"/home/data/MUSTANG2/IDL_Xfer_Fxns/ByScanSize/pca5_0f08/xfer_Function_3p0_21Aonly_PCA5_0f08Filtering.txt\"\n",
    "xferfile       = \"xfer_Function_3p0_21Aonly_PCA5_0f08Filtering.txt\"\n",
    "y2k            = -3.3"
   ]
  },
  {
   "cell_type": "code",
   "execution_count": 8,
   "metadata": {},
   "outputs": [],
   "source": []
  },
  {
   "cell_type": "code",
   "execution_count": 13,
   "metadata": {},
   "outputs": [
    {
     "name": "stdout",
     "output_type": "stream",
     "text": [
      "M500 (1e14):  4.9\n",
      "Redshift:  1.86\n",
      "Y500 (1e12 sr):  28.173524535508903\n",
      "Unfiltered y peak:  0.0004035995631544672\n",
      "Beam-convolved y peak:  0.0003640883271773599\n",
      "Filtered y peak:  0.00012984396311321514\n",
      "Filtered peak, uK:  -428.48507827360993\n",
      "Filtered peak, uJy/beam:  -328.7008819633172\n",
      "Time to 10 sigma peak detection (hrs):  2.9232832113589597\n",
      "================================================\n",
      "M500 (1e14):  4.2\n",
      "Redshift:  1.67\n",
      "Y500 (1e12 sr):  19.92521636575886\n",
      "Unfiltered y peak:  0.00028267246311782624\n",
      "Beam-convolved y peak:  0.000253766961888094\n",
      "Filtered y peak:  9.0075843619578e-05\n",
      "Filtered peak, uK:  -297.2502839446074\n",
      "Filtered peak, uJy/beam:  -228.02761508079473\n",
      "Time to 10 sigma peak detection (hrs):  6.074321033795318\n",
      "================================================\n",
      "M500 (1e14):  4.4\n",
      "Redshift:  1.63\n",
      "Y500 (1e12 sr):  21.34256014825589\n",
      "Unfiltered y peak:  0.0002869534254484513\n",
      "Beam-convolved y peak:  0.0002597103458053168\n",
      "Filtered y peak:  9.10246029003417e-05\n",
      "Filtered peak, uK:  -300.38118957112755\n",
      "Filtered peak, uJy/beam:  -230.4294056983992\n",
      "Time to 10 sigma peak detection (hrs):  5.948354345019477\n",
      "================================================\n",
      "M500 (1e14):  6.4\n",
      "Redshift:  1.56\n",
      "Y500 (1e12 sr):  40.615128859097275\n",
      "Unfiltered y peak:  0.00041222546745465425\n",
      "Beam-convolved y peak:  0.0003779607437895408\n",
      "Filtered y peak:  0.0001224446729764599\n",
      "Filtered peak, uK:  -404.0674208223176\n",
      "Filtered peak, uJy/beam:  -309.96952830205186\n",
      "Time to 10 sigma peak detection (hrs):  3.2872643229294467\n",
      "================================================\n",
      "M500 (1e14):  5.0\n",
      "Redshift:  1.51\n",
      "Y500 (1e12 sr):  25.763032403922104\n",
      "Unfiltered y peak:  0.00029540657938756495\n",
      "Beam-convolved y peak:  0.0002694066803039271\n",
      "Filtered y peak:  9.043440603037877e-05\n",
      "Filtered peak, uK:  -298.43353990024997\n",
      "Filtered peak, uJy/beam:  -228.9353182796438\n",
      "Time to 10 sigma peak detection (hrs):  6.026248503022611\n",
      "================================================\n",
      "Total Telescope Time:  49.25\n"
     ]
    }
   ],
   "source": [
    "TotalTime=0\n",
    "for M500,z in zip(M500s,zs):\n",
    "\n",
    "    y500       = WH.y_delta_from_mdelta(M500.value,z,delta=500,YMrel=\"A10\",ycyl=False,h70=h70)\n",
    "    \n",
    "    ymap       = WH.make_A10Map(M500,z,pixsize=pixsize,Dist=True)\n",
    "    mymap      = WH.smooth_by_M2_beam(ymap,pixsize=pixsize)\n",
    "    \n",
    "    tab        = FI.get_xfer(xferfile)\n",
    "    yxfer_init = FI.apply_xfer(mymap,tab,pixsize)\n",
    "    yxfer      = scipy.ndimage.filters.gaussian_filter(yxfer_init, pix_sigma*0.9)\n",
    "    uKmap      = yxfer*y2k*1e6\n",
    "    uJymap     = uKmap * (56/73.0)\n",
    "    MS         = 56.2\n",
    "    \n",
    "    #print(\"pixel size: \",pixsize)\n",
    "    SZpeak_uK  = np.min(uKmap)\n",
    "    SZpeak_uJy = np.min(uJymap)\n",
    "    SZpeak_yr  = np.max(ymap)\n",
    "    SZpeak_yc  = np.max(mymap)\n",
    "    SZpeak_yx  = np.max(yxfer)\n",
    "    ObsTime    = (MS*10/SZpeak_uJy)**2\n",
    "    TelTime    = np.ceil(ObsTime*8)/4.0\n",
    "    print(\"M500 (1e14): \",(M500/1e14).value)\n",
    "    print(\"Redshift: \",z)\n",
    "    #print(\"R500 (arcmin): \",Theta500*60*180/np.pi)\n",
    "    print(\"Y500 (1e12 sr): \",y500*1e12)\n",
    "    print(\"Unfiltered y peak: \", SZpeak_yr)\n",
    "    print(\"Beam-convolved y peak: \", SZpeak_yc)\n",
    "    print(\"Filtered y peak: \", SZpeak_yx)\n",
    "    print(\"Filtered peak, uK: \", SZpeak_uK)\n",
    "    print(\"Filtered peak, uJy/beam: \", SZpeak_uJy)\n",
    "    print(\"Time to 10 sigma peak detection (hrs): \",ObsTime)\n",
    "    print(\"================================================\")\n",
    "    TotalTime += TelTime\n",
    "    \n",
    "print(\"Total Telescope Time: \", TotalTime)"
   ]
  },
  {
   "cell_type": "code",
   "execution_count": null,
   "metadata": {},
   "outputs": [],
   "source": []
  },
  {
   "cell_type": "code",
   "execution_count": null,
   "metadata": {},
   "outputs": [],
   "source": []
  }
 ],
 "metadata": {
  "kernelspec": {
   "display_name": "Python 3",
   "language": "python",
   "name": "python3"
  },
  "language_info": {
   "codemirror_mode": {
    "name": "ipython",
    "version": 3
   },
   "file_extension": ".py",
   "mimetype": "text/x-python",
   "name": "python",
   "nbconvert_exporter": "python",
   "pygments_lexer": "ipython3",
   "version": "3.8.5"
  }
 },
 "nbformat": 4,
 "nbformat_minor": 4
}
